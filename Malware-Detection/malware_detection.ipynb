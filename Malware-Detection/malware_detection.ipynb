{
  "cells": [
    {
      "cell_type": "markdown",
      "metadata": {
        "id": "yFHWmkzXNMXt"
      },
      "source": [
        "# Group Members:\n",
        "      Muhammad Tayyab (BCS221088)\n",
        "\n",
        "      Muhammad Fahad Zafar (BCS221050)"
      ]
    },
    {
      "cell_type": "markdown",
      "metadata": {
        "id": "wo_S4dceNlE_"
      },
      "source": [
        "# Business Problem: Malware Detection in exe Files\n",
        "\n",
        "**Description:**\n",
        "\n",
        "Cybersecurity is a critical concern for businesses, as malware attacks can lead to data breaches, financial losses, and reputational damage. Detecting malware in executable files quickly and accurately is essential for maintaining system security. Traditional methods rely on signature-based detection, which struggles with identifying new or modified malware. Machine Learning (ML) offers a way to detect such threats by analyzing patterns in file features."
      ]
    },
    {
      "cell_type": "markdown",
      "metadata": {
        "id": "nkdgaEc6On_m"
      },
      "source": [
        "# Business/System Description\n",
        "The proposed system focuses on malware detection using machine learning (ML) techniques. In today’s interconnected world, malware attacks have become a significant cybersecurity threat, targeting individuals, organizations, and critical infrastructures. Traditional signature-based detection methods are often insufficient to counter new and evolving malware types. The system aims to provide an intelligent, automated malware detection solution capable of identifying and mitigating threats in real time. By leveraging ML algorithms, the system analyzes file behaviors, network traffic, and system activities to detect anomalies and potential malware attacks. The solution can be integrated into enterprise security systems, antivirus software, or cloud-based cybersecurity platforms to enhance threat detection and prevention capabilities."
      ]
    },
    {
      "cell_type": "markdown",
      "metadata": {
        "id": "YAFh2zkHPttV"
      },
      "source": [
        "# Problem Description\n",
        "Malware detection has become increasingly challenging due to the rise of sophisticated malware variants, including polymorphic and zero-day malware. Traditional detection systems rely on static signature-based methods, which fail to identify new or obfuscated threats. This gap leaves systems vulnerable to undetected malware attacks, leading to data breaches, financial losses, and operational disruptions. The problem is further compounded by the sheer volume of malicious files and network traffic, making manual analysis impractical. An effective solution is needed to detect and classify malware efficiently and accurately, even in the presence of novel threats."
      ]
    },
    {
      "cell_type": "markdown",
      "metadata": {
        "id": "lATdIEatP2Nd"
      },
      "source": [
        "# Solution: How ML can help in adressing the problem?\n",
        "Machine Learning can solve this problem by looking at the features of files and learning how to identify malware. Instead of depending on predefined patterns like traditional antivirus software, ML models analyze patterns in the data. For example, if a file has unusual characteristics, like a very high entropy value or a large number of DLL imports, the model can predict that the file might be malware.\n",
        "\n",
        "By training the model on a dataset that already has examples of malware and legitimate files, it learns to make accurate predictions on new files. The main benefit is that ML models can detect new and modified malware, which are usually missed by signature-based methods. This makes the system smarter and more reliable for identifying threats."
      ]
    },
    {
      "cell_type": "markdown",
      "metadata": {
        "id": "c7cOXFzdQ5Db"
      },
      "source": [
        "# Dataset Description:\n",
        "**File Structure Features**\n",
        "\n",
        "These features describe the structure and general properties of the executable file:\n",
        "\n",
        "1. Name: The name of the file (e.g., setup.exe).\n",
        "2. md5: A unique hash value for each file to identify it.\n",
        "3. Machine: Specifies the target machine type (e.g., x86, x64).\n",
        "4. SizeOfOptionalHeader: Size of the optional header, which is part of the file format.\n",
        "5. Characteristics: Flags that indicate file properties (e.g., executable, DLL, system file).\n",
        "6. MajorOperatingSystemVersion: Major version of the operating system the file targets.\n",
        "7. MinorOperatingSystemVersion: Minor version of the operating system the file targets.\n",
        "8. MajorImageVersion: Major version of the file image.\n",
        "9. MinorImageVersion: Minor version of the file image.\n",
        "10. MajorSubsystemVersion: Major version of the subsystem needed to run the file.\n",
        "11. MinorSubsystemVersion: Minor version of the subsystem needed to run the file.\n",
        "12. Subsystem: The environment required to run the file (e.g., Windows GUI, console).\n",
        "13. MajorLinkerVersion: Major version of the linker used to create the file.\n",
        "14. MinorLinkerVersion: Minor version of the linker used to create the file.\n",
        "\n",
        "# Size and Memory Allocation Features\n",
        "\n",
        "These features provide details about file sizes and memory usage:\n",
        "\n",
        "15. SizeOfCode: Size of the code section in the file.\n",
        "16. SizeOfInitializedData: Size of the initialized data section.\n",
        "17. SizeOfUninitializedData: Size of the uninitialized data section.\n",
        "18. SizeOfImage: Total size of the file in memory, including headers and sections.\n",
        "19. SizeOfHeaders: Combined size of the file headers.\n",
        "20. SizeOfStackReserve: Memory reserved for the stack.\n",
        "21. SizeOfStackCommit: Memory initially committed for the stack.\n",
        "22. SizeOfHeapReserve: Memory reserved for the heap.\n",
        "23. SizeOfHeapCommit: Memory initially committed for the heap.\n",
        "24. LoadConfigurationSize: Size of the load configuration table.\n",
        "25. VersionInformationSize: Size of the version information section.\n",
        "\n",
        "# Section-Based Features\n",
        "These features focus on the sections of the file, including entropy and size:\n",
        "\n",
        "26. SectionsNb: Number of sections in the file.\n",
        "27. SectionsMeanEntropy: Average entropy of all sections. High entropy may indicate obfuscation or encryption.\n",
        "28. SectionsMinEntropy: Minimum entropy among sections.\n",
        "29. SectionsMaxEntropy: Maximum entropy among sections.\n",
        "30. SectionsMeanRawsize: Average size of sections on disk.\n",
        "31. SectionsMinRawsize: Smallest section size on disk.\n",
        "32. SectionMaxRawsize: Largest section size on disk.\n",
        "33. SectionsMeanVirtualsize: Average size of sections in memory.\n",
        "34. SectionsMinVirtualsize: Smallest section size in memory.\n",
        "35. SectionMaxVirtualsize: Largest section size in memory.\n",
        "\n",
        "# Entry Point and Address Features\n",
        "These features focus on the file's execution entry points and base addresses:\n",
        "\n",
        "36. AddressOfEntryPoint: The memory address where execution starts.\n",
        "37. BaseOfCode: Base address where the code section is loaded in memory.\n",
        "38. BaseOfData: Base address where the data section is loaded in memory.\n",
        "39. ImageBase: Preferred memory address where the file is loaded.\n",
        "40. SectionAlignment: Alignment of sections when loaded into memory.\n",
        "41. FileAlignment: Alignment of sections on disk.\n",
        "\n",
        "# Imports and Exports Features\n",
        "These features describe the number of imported or exported libraries and functions:\n",
        "\n",
        "42. ImportsNbDLL: Number of Dynamic Link Library (DLL) files imported.\n",
        "43. ImportsNb: Total number of imported functions.\n",
        "44. ImportsNbOrdinal: Number of functions imported using ordinal numbers instead of names.\n",
        "45. ExportNb: Number of functions exported by the file.\n",
        "\n",
        "# Resource-Based Features\n",
        "These features describe the resources within the file (e.g., icons, images):\n",
        "\n",
        "46. ResourcesNb: Number of resources in the file.\n",
        "47. ResourcesMeanEntropy: Average entropy of all resources. High values may indicate packed resources.\n",
        "48. ResourcesMinEntropy: Minimum entropy among resources.\n",
        "49. ResourcesMaxEntropy: Maximum entropy among resources.\n",
        "50. ResourcesMeanSize: Average size of all resources.\n",
        "51. ResourcesMinSize: Smallest resource size.\n",
        "52. ResourcesMaxSize: Largest resource size.\n",
        "\n",
        "# Security and Behavior Features\n",
        "These features describe the file's security and behavioral flags:\n",
        "\n",
        "53. DllCharacteristics: Flags that describe file behavior (e.g., ASLR, DEP support).\n",
        "54. CheckSum: A value used to verify the integrity of the file.\n",
        "55. LoaderFlags: Reserved flags related to file loading (usually zero).\n",
        "56. NumberOfRvaAndSizes: Number of directory entries in the file header.\n",
        "\n",
        "# Target Feature\n",
        "\n",
        "57. legitimate: The target variable indicating whether the file is malware or legitimate (0 for malware, 1 for legitimate)\n",
        "\n"
      ]
    },
    {
      "cell_type": "markdown",
      "metadata": {
        "id": "KMJ9EFZKQ90F"
      },
      "source": [
        "# Dataset Collection\n",
        "The dataset is already provided and saved as MalwareData.csv in my local folder. It is a pipe-delimited (|) file. I loaded it into my code using the following command:"
      ]
    },
    {
      "cell_type": "code",
      "execution_count": 1,
      "metadata": {
        "colab": {
          "base_uri": "https://localhost:8080/",
          "height": 255
        },
        "id": "gP3eHDZ8Hqjf",
        "outputId": "a0d8e159-2810-4f4e-ca10-5d6a0e6bd465"
      },
      "outputs": [
        {
          "data": {
            "text/html": [
              "<div>\n",
              "<style scoped>\n",
              "    .dataframe tbody tr th:only-of-type {\n",
              "        vertical-align: middle;\n",
              "    }\n",
              "\n",
              "    .dataframe tbody tr th {\n",
              "        vertical-align: top;\n",
              "    }\n",
              "\n",
              "    .dataframe thead th {\n",
              "        text-align: right;\n",
              "    }\n",
              "</style>\n",
              "<table border=\"1\" class=\"dataframe\">\n",
              "  <thead>\n",
              "    <tr style=\"text-align: right;\">\n",
              "      <th></th>\n",
              "      <th>Name</th>\n",
              "      <th>md5</th>\n",
              "      <th>Machine</th>\n",
              "      <th>SizeOfOptionalHeader</th>\n",
              "      <th>Characteristics</th>\n",
              "      <th>MajorLinkerVersion</th>\n",
              "      <th>MinorLinkerVersion</th>\n",
              "      <th>SizeOfCode</th>\n",
              "      <th>SizeOfInitializedData</th>\n",
              "      <th>SizeOfUninitializedData</th>\n",
              "      <th>...</th>\n",
              "      <th>ResourcesNb</th>\n",
              "      <th>ResourcesMeanEntropy</th>\n",
              "      <th>ResourcesMinEntropy</th>\n",
              "      <th>ResourcesMaxEntropy</th>\n",
              "      <th>ResourcesMeanSize</th>\n",
              "      <th>ResourcesMinSize</th>\n",
              "      <th>ResourcesMaxSize</th>\n",
              "      <th>LoadConfigurationSize</th>\n",
              "      <th>VersionInformationSize</th>\n",
              "      <th>legitimate</th>\n",
              "    </tr>\n",
              "  </thead>\n",
              "  <tbody>\n",
              "    <tr>\n",
              "      <th>0</th>\n",
              "      <td>memtest.exe</td>\n",
              "      <td>631ea355665f28d4707448e442fbf5b8</td>\n",
              "      <td>332</td>\n",
              "      <td>224</td>\n",
              "      <td>258</td>\n",
              "      <td>9</td>\n",
              "      <td>0</td>\n",
              "      <td>361984</td>\n",
              "      <td>115712</td>\n",
              "      <td>0</td>\n",
              "      <td>...</td>\n",
              "      <td>4</td>\n",
              "      <td>3.262823</td>\n",
              "      <td>2.568844</td>\n",
              "      <td>3.537939</td>\n",
              "      <td>8797.000000</td>\n",
              "      <td>216</td>\n",
              "      <td>18032</td>\n",
              "      <td>0</td>\n",
              "      <td>16</td>\n",
              "      <td>1</td>\n",
              "    </tr>\n",
              "    <tr>\n",
              "      <th>1</th>\n",
              "      <td>ose.exe</td>\n",
              "      <td>9d10f99a6712e28f8acd5641e3a7ea6b</td>\n",
              "      <td>332</td>\n",
              "      <td>224</td>\n",
              "      <td>3330</td>\n",
              "      <td>9</td>\n",
              "      <td>0</td>\n",
              "      <td>130560</td>\n",
              "      <td>19968</td>\n",
              "      <td>0</td>\n",
              "      <td>...</td>\n",
              "      <td>2</td>\n",
              "      <td>4.250461</td>\n",
              "      <td>3.420744</td>\n",
              "      <td>5.080177</td>\n",
              "      <td>837.000000</td>\n",
              "      <td>518</td>\n",
              "      <td>1156</td>\n",
              "      <td>72</td>\n",
              "      <td>18</td>\n",
              "      <td>1</td>\n",
              "    </tr>\n",
              "    <tr>\n",
              "      <th>2</th>\n",
              "      <td>setup.exe</td>\n",
              "      <td>4d92f518527353c0db88a70fddcfd390</td>\n",
              "      <td>332</td>\n",
              "      <td>224</td>\n",
              "      <td>3330</td>\n",
              "      <td>9</td>\n",
              "      <td>0</td>\n",
              "      <td>517120</td>\n",
              "      <td>621568</td>\n",
              "      <td>0</td>\n",
              "      <td>...</td>\n",
              "      <td>11</td>\n",
              "      <td>4.426324</td>\n",
              "      <td>2.846449</td>\n",
              "      <td>5.271813</td>\n",
              "      <td>31102.272727</td>\n",
              "      <td>104</td>\n",
              "      <td>270376</td>\n",
              "      <td>72</td>\n",
              "      <td>18</td>\n",
              "      <td>1</td>\n",
              "    </tr>\n",
              "    <tr>\n",
              "      <th>3</th>\n",
              "      <td>DW20.EXE</td>\n",
              "      <td>a41e524f8d45f0074fd07805ff0c9b12</td>\n",
              "      <td>332</td>\n",
              "      <td>224</td>\n",
              "      <td>258</td>\n",
              "      <td>9</td>\n",
              "      <td>0</td>\n",
              "      <td>585728</td>\n",
              "      <td>369152</td>\n",
              "      <td>0</td>\n",
              "      <td>...</td>\n",
              "      <td>10</td>\n",
              "      <td>4.364291</td>\n",
              "      <td>2.669314</td>\n",
              "      <td>6.400720</td>\n",
              "      <td>1457.000000</td>\n",
              "      <td>90</td>\n",
              "      <td>4264</td>\n",
              "      <td>72</td>\n",
              "      <td>18</td>\n",
              "      <td>1</td>\n",
              "    </tr>\n",
              "    <tr>\n",
              "      <th>4</th>\n",
              "      <td>dwtrig20.exe</td>\n",
              "      <td>c87e561258f2f8650cef999bf643a731</td>\n",
              "      <td>332</td>\n",
              "      <td>224</td>\n",
              "      <td>258</td>\n",
              "      <td>9</td>\n",
              "      <td>0</td>\n",
              "      <td>294912</td>\n",
              "      <td>247296</td>\n",
              "      <td>0</td>\n",
              "      <td>...</td>\n",
              "      <td>2</td>\n",
              "      <td>4.306100</td>\n",
              "      <td>3.421598</td>\n",
              "      <td>5.190603</td>\n",
              "      <td>1074.500000</td>\n",
              "      <td>849</td>\n",
              "      <td>1300</td>\n",
              "      <td>72</td>\n",
              "      <td>18</td>\n",
              "      <td>1</td>\n",
              "    </tr>\n",
              "  </tbody>\n",
              "</table>\n",
              "<p>5 rows × 57 columns</p>\n",
              "</div>"
            ],
            "text/plain": [
              "           Name                               md5  Machine  \\\n",
              "0   memtest.exe  631ea355665f28d4707448e442fbf5b8      332   \n",
              "1       ose.exe  9d10f99a6712e28f8acd5641e3a7ea6b      332   \n",
              "2     setup.exe  4d92f518527353c0db88a70fddcfd390      332   \n",
              "3      DW20.EXE  a41e524f8d45f0074fd07805ff0c9b12      332   \n",
              "4  dwtrig20.exe  c87e561258f2f8650cef999bf643a731      332   \n",
              "\n",
              "   SizeOfOptionalHeader  Characteristics  MajorLinkerVersion  \\\n",
              "0                   224              258                   9   \n",
              "1                   224             3330                   9   \n",
              "2                   224             3330                   9   \n",
              "3                   224              258                   9   \n",
              "4                   224              258                   9   \n",
              "\n",
              "   MinorLinkerVersion  SizeOfCode  SizeOfInitializedData  \\\n",
              "0                   0      361984                 115712   \n",
              "1                   0      130560                  19968   \n",
              "2                   0      517120                 621568   \n",
              "3                   0      585728                 369152   \n",
              "4                   0      294912                 247296   \n",
              "\n",
              "   SizeOfUninitializedData  ...  ResourcesNb  ResourcesMeanEntropy  \\\n",
              "0                        0  ...            4              3.262823   \n",
              "1                        0  ...            2              4.250461   \n",
              "2                        0  ...           11              4.426324   \n",
              "3                        0  ...           10              4.364291   \n",
              "4                        0  ...            2              4.306100   \n",
              "\n",
              "   ResourcesMinEntropy  ResourcesMaxEntropy  ResourcesMeanSize  \\\n",
              "0             2.568844             3.537939        8797.000000   \n",
              "1             3.420744             5.080177         837.000000   \n",
              "2             2.846449             5.271813       31102.272727   \n",
              "3             2.669314             6.400720        1457.000000   \n",
              "4             3.421598             5.190603        1074.500000   \n",
              "\n",
              "   ResourcesMinSize  ResourcesMaxSize  LoadConfigurationSize  \\\n",
              "0               216             18032                      0   \n",
              "1               518              1156                     72   \n",
              "2               104            270376                     72   \n",
              "3                90              4264                     72   \n",
              "4               849              1300                     72   \n",
              "\n",
              "   VersionInformationSize  legitimate  \n",
              "0                      16           1  \n",
              "1                      18           1  \n",
              "2                      18           1  \n",
              "3                      18           1  \n",
              "4                      18           1  \n",
              "\n",
              "[5 rows x 57 columns]"
            ]
          },
          "execution_count": 1,
          "metadata": {},
          "output_type": "execute_result"
        }
      ],
      "source": [
        "import pandas as pd\n",
        "import seaborn as sns\n",
        "import matplotlib.pyplot as plt\n",
        "\n",
        "file_path = \"mal_data.csv\"\n",
        "df = pd.read_csv(file_path, sep = '|', low_memory = True)\n",
        "\n",
        "# Display the first few rows of the dataset\n",
        "df.head()"
      ]
    },
    {
      "cell_type": "markdown",
      "metadata": {
        "id": "VGlw0yC1OTsS"
      },
      "source": [
        "# Data Preprocessing\n",
        "Before training the model, I had to clean and prepare the dataset. The following steps would be required:\n",
        "\n",
        "1. Removing Unnecessary Columns: Columns such as \"Name\" and \"md5\" are identifiers and do not contribute to the analysis, so they were removed.\n",
        "2. Handling Missing Values: Checked for null values in the dataset and ensured that all missing data was addressed.\n",
        "3. Removing Duplicate Records: Identified and removed duplicate rows to ensure data consistency.\n",
        "4. Feature Encoding: Transformed categorical variables, if any, into numerical representations for compatibility with machine learning models.\n",
        "5. Outlier Handling: Managed outliers by either removing them or replacing their values with the median.\n"
      ]
    },
    {
      "cell_type": "markdown",
      "metadata": {
        "id": "gMZx2FXgocBv"
      },
      "source": [
        "# Removing unnecessary columns"
      ]
    },
    {
      "cell_type": "code",
      "execution_count": 32,
      "metadata": {
        "id": "xRV4N84aHtsR"
      },
      "outputs": [],
      "source": [
        "# Assuming 'Name' and 'md5' are unnecessary for model training\n",
        "columns_to_remove = ['Name', 'md5']\n",
        "df = df.drop(columns=columns_to_remove, errors='ignore')"
      ]
    },
    {
      "cell_type": "markdown",
      "metadata": {
        "id": "Tp_kD7p8omgW"
      },
      "source": [
        "# Checking Missing values"
      ]
    },
    {
      "cell_type": "code",
      "execution_count": 33,
      "metadata": {
        "colab": {
          "base_uri": "https://localhost:8080/"
        },
        "id": "PivcufR3o3sR",
        "outputId": "49cbc034-54c3-4e3d-ac60-01b8186646b9"
      },
      "outputs": [
        {
          "name": "stdout",
          "output_type": "stream",
          "text": [
            "Missing values per column before removal:\n",
            "Machine                        0\n",
            "SizeOfOptionalHeader           0\n",
            "Characteristics                0\n",
            "MajorLinkerVersion             0\n",
            "MinorLinkerVersion             0\n",
            "SizeOfCode                     0\n",
            "SizeOfInitializedData          0\n",
            "SizeOfUninitializedData        0\n",
            "AddressOfEntryPoint            0\n",
            "BaseOfCode                     0\n",
            "BaseOfData                     0\n",
            "ImageBase                      0\n",
            "SectionAlignment               0\n",
            "FileAlignment                  0\n",
            "MajorOperatingSystemVersion    0\n",
            "MinorOperatingSystemVersion    0\n",
            "MajorImageVersion              0\n",
            "MinorImageVersion              0\n",
            "MajorSubsystemVersion          0\n",
            "MinorSubsystemVersion          0\n",
            "SizeOfImage                    0\n",
            "SizeOfHeaders                  0\n",
            "CheckSum                       0\n",
            "Subsystem                      0\n",
            "DllCharacteristics             0\n",
            "SizeOfStackReserve             0\n",
            "SizeOfStackCommit              0\n",
            "SizeOfHeapReserve              0\n",
            "SizeOfHeapCommit               0\n",
            "LoaderFlags                    0\n",
            "NumberOfRvaAndSizes            0\n",
            "SectionsNb                     0\n",
            "SectionsMeanEntropy            0\n",
            "SectionsMinEntropy             0\n",
            "SectionsMaxEntropy             0\n",
            "SectionsMeanRawsize            0\n",
            "SectionsMinRawsize             0\n",
            "SectionMaxRawsize              0\n",
            "SectionsMeanVirtualsize        0\n",
            "SectionsMinVirtualsize         0\n",
            "SectionMaxVirtualsize          0\n",
            "ImportsNbDLL                   0\n",
            "ImportsNb                      0\n",
            "ImportsNbOrdinal               0\n",
            "ExportNb                       0\n",
            "ResourcesNb                    0\n",
            "ResourcesMeanEntropy           0\n",
            "ResourcesMinEntropy            0\n",
            "ResourcesMaxEntropy            0\n",
            "ResourcesMeanSize              0\n",
            "ResourcesMinSize               0\n",
            "ResourcesMaxSize               0\n",
            "LoadConfigurationSize          0\n",
            "VersionInformationSize         0\n",
            "legitimate                     0\n",
            "dtype: int64\n"
          ]
        }
      ],
      "source": [
        "print(\"Missing values per column before removal:\")\n",
        "print(df.isnull().sum())"
      ]
    },
    {
      "cell_type": "markdown",
      "metadata": {
        "id": "tqn_jrrgpXbr"
      },
      "source": [
        "# Removing Missing values"
      ]
    },
    {
      "cell_type": "code",
      "execution_count": 34,
      "metadata": {
        "colab": {
          "base_uri": "https://localhost:8080/"
        },
        "id": "97kpqbO4pdNA",
        "outputId": "c97feb67-f533-4d29-d7d1-d47cbf1042ba"
      },
      "outputs": [
        {
          "name": "stdout",
          "output_type": "stream",
          "text": [
            "\n",
            "Missing values per column after removal:\n",
            "Machine                        0\n",
            "SizeOfOptionalHeader           0\n",
            "Characteristics                0\n",
            "MajorLinkerVersion             0\n",
            "MinorLinkerVersion             0\n",
            "SizeOfCode                     0\n",
            "SizeOfInitializedData          0\n",
            "SizeOfUninitializedData        0\n",
            "AddressOfEntryPoint            0\n",
            "BaseOfCode                     0\n",
            "BaseOfData                     0\n",
            "ImageBase                      0\n",
            "SectionAlignment               0\n",
            "FileAlignment                  0\n",
            "MajorOperatingSystemVersion    0\n",
            "MinorOperatingSystemVersion    0\n",
            "MajorImageVersion              0\n",
            "MinorImageVersion              0\n",
            "MajorSubsystemVersion          0\n",
            "MinorSubsystemVersion          0\n",
            "SizeOfImage                    0\n",
            "SizeOfHeaders                  0\n",
            "CheckSum                       0\n",
            "Subsystem                      0\n",
            "DllCharacteristics             0\n",
            "SizeOfStackReserve             0\n",
            "SizeOfStackCommit              0\n",
            "SizeOfHeapReserve              0\n",
            "SizeOfHeapCommit               0\n",
            "LoaderFlags                    0\n",
            "NumberOfRvaAndSizes            0\n",
            "SectionsNb                     0\n",
            "SectionsMeanEntropy            0\n",
            "SectionsMinEntropy             0\n",
            "SectionsMaxEntropy             0\n",
            "SectionsMeanRawsize            0\n",
            "SectionsMinRawsize             0\n",
            "SectionMaxRawsize              0\n",
            "SectionsMeanVirtualsize        0\n",
            "SectionsMinVirtualsize         0\n",
            "SectionMaxVirtualsize          0\n",
            "ImportsNbDLL                   0\n",
            "ImportsNb                      0\n",
            "ImportsNbOrdinal               0\n",
            "ExportNb                       0\n",
            "ResourcesNb                    0\n",
            "ResourcesMeanEntropy           0\n",
            "ResourcesMinEntropy            0\n",
            "ResourcesMaxEntropy            0\n",
            "ResourcesMeanSize              0\n",
            "ResourcesMinSize               0\n",
            "ResourcesMaxSize               0\n",
            "LoadConfigurationSize          0\n",
            "VersionInformationSize         0\n",
            "legitimate                     0\n",
            "dtype: int64\n"
          ]
        }
      ],
      "source": [
        "# Remove rows with missing values\n",
        "df = df.dropna()\n",
        "\n",
        "# Verifying no missing values remain\n",
        "print(\"\\nMissing values per column after removal:\")\n",
        "print(df.isnull().sum())"
      ]
    },
    {
      "cell_type": "markdown",
      "metadata": {
        "id": "-ABKyqnRpuAr"
      },
      "source": [
        "# Feature Encoding (if necessary)"
      ]
    },
    {
      "cell_type": "code",
      "execution_count": 35,
      "metadata": {
        "colab": {
          "base_uri": "https://localhost:8080/"
        },
        "id": "81g_7lMMIFiR",
        "outputId": "bed02357-eda4-454f-cf4d-c7cb16d87256"
      },
      "outputs": [
        {
          "name": "stdout",
          "output_type": "stream",
          "text": [
            "No categorical variables to encode.\n"
          ]
        }
      ],
      "source": [
        "# Assuming there are categorical variables, encode them using one-hot encoding\n",
        "categorical_columns = df.select_dtypes(include=['object']).columns\n",
        "if len(categorical_columns) > 0:\n",
        "    df = pd.get_dummies(df, columns=categorical_columns)\n",
        "    print(\"Categorical variables encoded using one-hot encoding.\")\n",
        "else:\n",
        "    print(\"No categorical variables to encode.\")"
      ]
    },
    {
      "cell_type": "markdown",
      "metadata": {
        "id": "PFByOK0zvmcG"
      },
      "source": [
        "# Class Imbalance Check"
      ]
    },
    {
      "cell_type": "code",
      "execution_count": 37,
      "metadata": {
        "colab": {
          "base_uri": "https://localhost:8080/",
          "height": 472
        },
        "id": "2y1nOYMlu24P",
        "outputId": "c53c73a7-f299-418c-f814-60658885b75d"
      },
      "outputs": [
        {
          "data": {
            "image/png": "[encoded data removed]",
            "text/plain": [
              "<Figure size 640x480 with 1 Axes>"
            ]
          },
          "metadata": {},
          "output_type": "display_data"
        }
      ],
      "source": [
        "# Plotting the distribution of the target variable\n",
        "sns.countplot(x='legitimate', data=df)\n",
        "plt.title('Class Distribution')\n",
        "plt.xlabel('Classes')\n",
        "plt.ylabel('Count')\n",
        "plt.show()\n"
      ]
    },
    {
      "cell_type": "markdown",
      "metadata": {
        "id": "SNoO7yXTv9YG"
      },
      "source": [
        "# Checking Class Ratios"
      ]
    },
    {
      "cell_type": "code",
      "execution_count": 39,
      "metadata": {
        "colab": {
          "base_uri": "https://localhost:8080/"
        },
        "id": "MFmEx1DiwBzH",
        "outputId": "e3b43c83-f21b-4a81-9619-15d566ae244a"
      },
      "outputs": [
        {
          "name": "stdout",
          "output_type": "stream",
          "text": [
            "Class Distribution:\n",
            "legitimate\n",
            "0    96724\n",
            "1    41323\n",
            "Name: count, dtype: int64\n",
            "\n",
            "Class Ratios:\n",
            "legitimate\n",
            "0    0.70066\n",
            "1    0.29934\n",
            "Name: count, dtype: float64\n"
          ]
        }
      ],
      "source": [
        "# Calculate the class distribution\n",
        "class_counts = df['legitimate'].value_counts()\n",
        "print(\"Class Distribution:\")\n",
        "print(class_counts)\n",
        "\n",
        "# Calculate class ratios\n",
        "class_ratios = class_counts / len(df)\n",
        "print(\"\\nClass Ratios:\")\n",
        "print(class_ratios)"
      ]
    }
  ],
  "metadata": {
    "colab": {
      "provenance": []
    },
    "kernelspec": {
      "display_name": "Python 3",
      "name": "python3"
    },
    "language_info": {
      "codemirror_mode": {
        "name": "ipython",
        "version": 3
      },
      "file_extension": ".py",
      "mimetype": "text/x-python",
      "name": "python",
      "nbconvert_exporter": "python",
      "pygments_lexer": "ipython3",
      "version": "3.12.6"
    }
  },
  "nbformat": 4,
  "nbformat_minor": 0
}
